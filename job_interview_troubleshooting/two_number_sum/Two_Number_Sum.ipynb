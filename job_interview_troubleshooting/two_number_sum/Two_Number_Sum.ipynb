{
  "nbformat": 4,
  "nbformat_minor": 0,
  "metadata": {
    "colab": {
      "provenance": []
    },
    "kernelspec": {
      "name": "python3",
      "display_name": "Python 3"
    },
    "language_info": {
      "name": "python"
    }
  },
  "cells": [
    {
      "cell_type": "markdown",
      "source": [
        "# Two Number Sum"
      ],
      "metadata": {
        "id": "BRrSs30b55ie"
      }
    },
    {
      "cell_type": "markdown",
      "source": [
        "Write a function that take in a non-empty array of distinct integers and an integer representing a target sum. If any two numbers in the input array sum up to the target sum, the function should return then in an array, in any order. If no two numbers sum up to the target sum, the function should return an empty array."
      ],
      "metadata": {
        "id": "rMUJMqTDt0gC"
      }
    },
    {
      "cell_type": "markdown",
      "source": [
        "## Pytest"
      ],
      "metadata": {
        "id": "T9L7BRsx58eg"
      }
    },
    {
      "cell_type": "code",
      "execution_count": null,
      "metadata": {
        "id": "wQ69KzUEPEOA"
      },
      "outputs": [],
      "source": [
        "!pip install pytest pytest-sugar"
      ]
    },
    {
      "cell_type": "code",
      "source": [
        "%%file test_data_n_2.py\n",
        "import pytest\n",
        "\n",
        "def twoNumberSum(array, targetSum):\n",
        "  \"\"\"\n",
        "  Description:\n",
        "  A function that take in a non-empty array of distinct integers\n",
        "  and an integer representing a target sum. If any two numbers \n",
        "  in the input array sum up to the target sum, the function should\n",
        "  return then in an array, in any order. \n",
        "  If no two numbers sum up to the target sum, \n",
        "  the function should return an empty array.\n",
        "\n",
        "  Parameters:\n",
        "  array <list>: list of integers\n",
        "  targetSum <integer>: integer representing a target sum\n",
        "\n",
        "  Return:\n",
        "  Interger pair which sum is equal to targetSum\n",
        "  empty otherwise\n",
        "  \"\"\"\n",
        "  for i in range(len(array) - 1):\n",
        "    firstNum = array[i]\n",
        "    for j in range (i+1, len(array)):\n",
        "      secondNum = array[j]\n",
        "      if firstNum + secondNum == targetSum:\n",
        "        return [firstNum, secondNum]\n",
        "  return []\n",
        "\n",
        "@pytest.fixture(scope=\"session\")\n",
        "def data():\n",
        "    \n",
        "    array = []\n",
        "    \n",
        "    # test 1 data\n",
        "    array.append([3, 5, -4, 8, 11, 1, -1, 6])\n",
        "\n",
        "    # test 2 data\n",
        "    array.append([4, 6, 1, -3])\n",
        "\n",
        "    # test 3 data\n",
        "    array.append([1, 2, 3, 4, 5, 6, 7, 8, 9, 15])\n",
        "\n",
        "    # test 4 data\n",
        "    array.append([15])\n",
        "\n",
        "    # test 5 data\n",
        "    array.append([-21, 301, 12, 4, 65, 56, 210, 356, 9, -47])\n",
        "\n",
        "    # test 6 data\n",
        "    array.append([-21, 301, 12, 4, 65, 56, 210, 356, 9, -47])\n",
        "\n",
        "    # test 7 data\n",
        "    array.append([-7, -5, -3, -1, 0, 1, 3, 5, 7])\n",
        "    \n",
        "    return array\n",
        "\n",
        "def test_1(data):\n",
        "    \"\"\"\n",
        "    Test evaluation for [3, 5, -4, 8, 11, 1, -1, 6] and target 10\n",
        "    \"\"\"\n",
        "    assert twoNumberSum(data[0],10) == [11,-1]\n",
        "\n",
        "\n",
        "def test_2(data):\n",
        "    \"\"\"\n",
        "    Test evaluation for [4, 6, 1, -3] and target 3\n",
        "    \"\"\"\n",
        "    assert twoNumberSum(data[1],3) == [6,-3]\n",
        "\n",
        "def test_3(data):\n",
        "    \"\"\"\n",
        "    Test evaluation for [1, 2, 3, 4, 5, 6, 7, 8, 9, 15] and target 26\n",
        "    \"\"\"\n",
        "    assert twoNumberSum(data[2],26) == []\n",
        "\n",
        "def test_4(data):\n",
        "    \"\"\"\n",
        "    Test evaluation for [15] and target 15\n",
        "    \"\"\"\n",
        "    assert twoNumberSum(data[3],15) == []\n",
        "\n",
        "def test_5(data):\n",
        "    \"\"\"\n",
        "    Test evaluation for [-21, 301, 12, 4, 65, 56, 210, 356, 9, -47] and target 164\n",
        "    \"\"\"\n",
        "    assert twoNumberSum(data[4],164) == [] \n",
        "\n",
        "def test_6(data):\n",
        "    \"\"\"\n",
        "    Test evaluation for [-21, 301, 12, 4, 65, 56, 210, 356, 9, -47] and target 163\n",
        "    \"\"\"\n",
        "    assert twoNumberSum(data[5],163) == [210, -47] \n",
        "\n",
        "def test_7(data):\n",
        "    \"\"\"\n",
        "    Test evaluation for [-7, -5, -3, -1, 0, 1, 3, 5, 7] and target -5\n",
        "    \"\"\"\n",
        "    assert twoNumberSum(data[6],-5) == [-5, 0]"
      ],
      "metadata": {
        "id": "QzCpYAafQMh1"
      },
      "execution_count": null,
      "outputs": []
    },
    {
      "cell_type": "code",
      "source": [
        "!pytest . -vv"
      ],
      "metadata": {
        "id": "ZXlasFpHQSCz"
      },
      "execution_count": null,
      "outputs": []
    },
    {
      "cell_type": "code",
      "source": [
        "%%file test_data_n.py\n",
        "import pytest\n",
        "\n",
        "def twoNumberSum(array, targetSum):\n",
        "  \"\"\"\n",
        "  Description:\n",
        "  A function that take in a non-empty array of distinct integers\n",
        "  and an integer representing a target sum. If any two numbers \n",
        "  in the input array sum up to the target sum, the function should\n",
        "  return then in an array, in any order. \n",
        "  If no two numbers sum up to the target sum, \n",
        "  the function should return an empty array.\n",
        "\n",
        "  Parameters:\n",
        "  array <list>: list of integers\n",
        "  targetSum <integer>: integer representing a target sum\n",
        "\n",
        "  Return:\n",
        "  Interger pair which sum is equal to targetSum\n",
        "  empty otherwise\n",
        "  \"\"\"\n",
        "  dictionary = {}\n",
        "  for i in range(len(array)):\n",
        "    x = array[i]\n",
        "    y = targetSum - x\n",
        "    if y not in dictionary:\n",
        "      dictionary[x] = True\n",
        "    else:\n",
        "      return [y,x]\n",
        "  return []\n",
        "\n",
        "@pytest.fixture(scope=\"session\")\n",
        "def data():\n",
        "    \n",
        "    array = []\n",
        "    \n",
        "    # test 1 data\n",
        "    array.append([3, 5, -4, 8, 11, 1, -1, 6])\n",
        "\n",
        "    # test 2 data\n",
        "    array.append([4, 6, 1, -3])\n",
        "\n",
        "    # test 3 data\n",
        "    array.append([1, 2, 3, 4, 5, 6, 7, 8, 9, 15])\n",
        "\n",
        "    # test 4 data\n",
        "    array.append([15])\n",
        "\n",
        "    # test 5 data\n",
        "    array.append([-21, 301, 12, 4, 65, 56, 210, 356, 9, -47])\n",
        "\n",
        "    # test 6 data\n",
        "    array.append([-21, 301, 12, 4, 65, 56, 210, 356, 9, -47])\n",
        "\n",
        "    # test 7 data\n",
        "    array.append([-7, -5, -3, -1, 0, 1, 3, 5, 7])\n",
        "    \n",
        "    return array\n",
        "\n",
        "def test_1(data):\n",
        "    \"\"\"\n",
        "    Test evaluation for [3, 5, -4, 8, 11, 1, -1, 6] and target 10\n",
        "    \"\"\"\n",
        "    assert twoNumberSum(data[0],10) == [11,-1]\n",
        "\n",
        "\n",
        "def test_2(data):\n",
        "    \"\"\"\n",
        "    Test evaluation for [4, 6, 1, -3] and target 3\n",
        "    \"\"\"\n",
        "    assert twoNumberSum(data[1],3) == [6,-3]\n",
        "\n",
        "def test_3(data):\n",
        "    \"\"\"\n",
        "    Test evaluation for [1, 2, 3, 4, 5, 6, 7, 8, 9, 15] and target 26\n",
        "    \"\"\"\n",
        "    assert twoNumberSum(data[2],26) == []\n",
        "\n",
        "def test_4(data):\n",
        "    \"\"\"\n",
        "    Test evaluation for [15] and target 15\n",
        "    \"\"\"\n",
        "    assert twoNumberSum(data[3],15) == []\n",
        "\n",
        "def test_5(data):\n",
        "    \"\"\"\n",
        "    Test evaluation for [-21, 301, 12, 4, 65, 56, 210, 356, 9, -47] and target 164\n",
        "    \"\"\"\n",
        "    assert twoNumberSum(data[4],164) == [] \n",
        "\n",
        "def test_6(data):\n",
        "    \"\"\"\n",
        "    Test evaluation for [-21, 301, 12, 4, 65, 56, 210, 356, 9, -47] and target 163\n",
        "    \"\"\"\n",
        "    assert twoNumberSum(data[5],163) == [210, -47] \n",
        "\n",
        "def test_7(data):\n",
        "    \"\"\"\n",
        "    Test evaluation for [-7, -5, -3, -1, 0, 1, 3, 5, 7] and target -5\n",
        "    \"\"\"\n",
        "    assert twoNumberSum(data[6],-5) == [-5, 0]"
      ],
      "metadata": {
        "colab": {
          "base_uri": "https://localhost:8080/"
        },
        "id": "gZ-0qvbdQXnG",
        "outputId": "ff7c125d-f8b2-4b1f-d5d4-7e339232e407"
      },
      "execution_count": null,
      "outputs": [
        {
          "output_type": "stream",
          "name": "stdout",
          "text": [
            "Overwriting test_data_n.py\n"
          ]
        }
      ]
    },
    {
      "cell_type": "code",
      "source": [
        "!pytest . -vv"
      ],
      "metadata": {
        "colab": {
          "base_uri": "https://localhost:8080/"
        },
        "id": "K4OEiWQGRw8t",
        "outputId": "a513d24c-8efa-4ec7-940c-5c1447c23826"
      },
      "execution_count": null,
      "outputs": [
        {
          "output_type": "stream",
          "name": "stdout",
          "text": [
            "\u001b[1mTest session starts (platform: linux, Python 3.7.13, pytest 3.6.4, pytest-sugar 0.9.5)\u001b[0m\n",
            "cachedir: .pytest_cache\n",
            "rootdir: /content, inifile:\n",
            "plugins: typeguard-2.7.1, sugar-0.9.5\n",
            "\r\n",
            "\r \u001b[36mtest_data_n.py\u001b[0m::test_1\u001b[0m \u001b[32m✓\u001b[0m                                         \u001b[32m14% \u001b[0m\u001b[40m\u001b[32m█\u001b[0m\u001b[40m\u001b[32m▌        \u001b[0m\r\n",
            "\r \u001b[36mtest_data_n.py\u001b[0m::test_2\u001b[0m \u001b[32m✓\u001b[0m                                         \u001b[32m29% \u001b[0m\u001b[40m\u001b[32m█\u001b[0m\u001b[40m\u001b[32m█\u001b[0m\u001b[40m\u001b[32m▉       \u001b[0m\r\n",
            "\r \u001b[36mtest_data_n.py\u001b[0m::test_3\u001b[0m \u001b[32m✓\u001b[0m                                         \u001b[32m43% \u001b[0m\u001b[40m\u001b[32m█\u001b[0m\u001b[40m\u001b[32m█\u001b[0m\u001b[40m\u001b[32m█\u001b[0m\u001b[40m\u001b[32m█▍     \u001b[0m\r\n",
            "\r \u001b[36mtest_data_n.py\u001b[0m::test_4\u001b[0m \u001b[32m✓\u001b[0m                                         \u001b[32m57% \u001b[0m\u001b[40m\u001b[32m█\u001b[0m\u001b[40m\u001b[32m█\u001b[0m\u001b[40m\u001b[32m█\u001b[0m\u001b[40m\u001b[32m█\u001b[0m\u001b[40m\u001b[32m█\u001b[0m\u001b[40m\u001b[32m▊    \u001b[0m\r\n",
            "\r \u001b[36mtest_data_n.py\u001b[0m::test_5\u001b[0m \u001b[32m✓\u001b[0m                                         \u001b[32m71% \u001b[0m\u001b[40m\u001b[32m█\u001b[0m\u001b[40m\u001b[32m█\u001b[0m\u001b[40m\u001b[32m█\u001b[0m\u001b[40m\u001b[32m█\u001b[0m\u001b[40m\u001b[32m█\u001b[0m\u001b[40m\u001b[32m█\u001b[0m\u001b[40m\u001b[32m█▎  \u001b[0m\r\n",
            "\r \u001b[36mtest_data_n.py\u001b[0m::test_6\u001b[0m \u001b[32m✓\u001b[0m                                         \u001b[32m86% \u001b[0m\u001b[40m\u001b[32m█\u001b[0m\u001b[40m\u001b[32m█\u001b[0m\u001b[40m\u001b[32m█\u001b[0m\u001b[40m\u001b[32m█\u001b[0m\u001b[40m\u001b[32m█\u001b[0m\u001b[40m\u001b[32m█\u001b[0m\u001b[40m\u001b[32m█\u001b[0m\u001b[40m\u001b[32m█\u001b[0m\u001b[40m\u001b[32m▋ \u001b[0m\r\n",
            "\r \u001b[36mtest_data_n.py\u001b[0m::test_7\u001b[0m \u001b[32m✓\u001b[0m                                        \u001b[32m100% \u001b[0m\u001b[40m\u001b[32m█\u001b[0m\u001b[40m\u001b[32m█\u001b[0m\u001b[40m\u001b[32m█\u001b[0m\u001b[40m\u001b[32m█\u001b[0m\u001b[40m\u001b[32m█\u001b[0m\u001b[40m\u001b[32m█\u001b[0m\u001b[40m\u001b[32m█\u001b[0m\u001b[40m\u001b[32m█\u001b[0m\u001b[40m\u001b[32m█\u001b[0m\u001b[40m\u001b[32m█\u001b[0m\n",
            "\n",
            "Results (0.03s):\n",
            "\u001b[32m       7 passed\u001b[0m\n"
          ]
        }
      ]
    },
    {
      "cell_type": "markdown",
      "source": [
        "## Checking Time Complexity"
      ],
      "metadata": {
        "id": "HSET9Hdo50gI"
      }
    },
    {
      "cell_type": "code",
      "source": [
        "import time\n",
        "import random\n",
        "import matplotlib.pyplot as plt\n",
        "import numpy as np\n",
        "\n",
        "def gen_input(length):\n",
        "    return [random.randint(-1000, 1000) for _ in range(length)]\n",
        "\n",
        "def plot_times(times):\n",
        "    plt.plot(times)\n",
        "    plt.ylabel('runtime')\n",
        "    plt.xlabel('size')\n",
        "    plt.show()"
      ],
      "metadata": {
        "id": "coaXkiN_RzS_"
      },
      "execution_count": 13,
      "outputs": []
    },
    {
      "cell_type": "code",
      "source": [
        "# Function with time complexity = O(n^2)\n",
        "def twoNumberSum(array, targetSum):\n",
        "  \"\"\"\n",
        "  Description:\n",
        "  A function that take in a non-empty array of distinct integers\n",
        "  and an integer representing a target sum. If any two numbers \n",
        "  in the input array sum up to the target sum, the function should\n",
        "  return then in an array, in any order. \n",
        "  If no two numbers sum up to the target sum, \n",
        "  the function should return an empty array.\n",
        "\n",
        "  Parameters:\n",
        "  array <list>: list of integers\n",
        "  targetSum <integer>: integer representing a target sum\n",
        "\n",
        "  Return:\n",
        "  Interger pair which sum is equal to targetSum\n",
        "  empty otherwise\n",
        "  \"\"\"\n",
        "  for i in range(len(array) - 1):\n",
        "    firstNum = array[i]\n",
        "    for j in range (i+1, len(array)):\n",
        "      secondNum = array[j]\n",
        "      if firstNum + secondNum == targetSum:\n",
        "        return [firstNum, secondNum]\n",
        "  return []"
      ],
      "metadata": {
        "id": "A9EWmjy56S3g"
      },
      "execution_count": 22,
      "outputs": []
    },
    {
      "cell_type": "code",
      "source": [
        "times = []\n",
        "for length in range(1,5000):\n",
        "    values = gen_input(length)\n",
        "    start = time.time()\n",
        "    twoNumberSum(values, length)\n",
        "    end = time.time()\n",
        "    times.append(end - start)\n"
      ],
      "metadata": {
        "id": "HolA4SW061BR"
      },
      "execution_count": null,
      "outputs": []
    },
    {
      "cell_type": "code",
      "source": [
        "plot_times(times)"
      ],
      "metadata": {
        "colab": {
          "base_uri": "https://localhost:8080/",
          "height": 282
        },
        "id": "TKGynkwIN7Qg",
        "outputId": "bcdbd04c-c6de-4b84-9f58-aa8af57676d2"
      },
      "execution_count": 24,
      "outputs": [
        {
          "output_type": "display_data",
          "data": {
            "text/plain": [
              "<Figure size 432x288 with 1 Axes>"
            ],
            "image/png": "[encoded data removed]"
          },
          "metadata": {
            "needs_background": "light"
          }
        }
      ]
    },
    {
      "cell_type": "code",
      "source": [
        "# Function with time complexity = O(n)\n",
        "def twoNumberSum(array, targetSum):\n",
        "  \"\"\"\n",
        "  Description:\n",
        "  A function that take in a non-empty array of distinct integers\n",
        "  and an integer representing a target sum. If any two numbers \n",
        "  in the input array sum up to the target sum, the function should\n",
        "  return then in an array, in any order. \n",
        "  If no two numbers sum up to the target sum, \n",
        "  the function should return an empty array.\n",
        "\n",
        "  Parameters:\n",
        "  array <list>: list of integers\n",
        "  targetSum <integer>: integer representing a target sum\n",
        "\n",
        "  Return:\n",
        "  Interger pair which sum is equal to targetSum\n",
        "  empty otherwise\n",
        "  \"\"\"\n",
        "  dictionary = {}\n",
        "  for i in range(len(array)):\n",
        "    x = array[i]\n",
        "    y = targetSum - x\n",
        "    if y not in dictionary:\n",
        "      dictionary[x] = True\n",
        "    else:\n",
        "      return [y,x]\n",
        "  return []"
      ],
      "metadata": {
        "id": "P9TVdoFs66dC"
      },
      "execution_count": 25,
      "outputs": []
    },
    {
      "cell_type": "code",
      "source": [
        "times = []\n",
        "for length in range(1,10000):\n",
        "    values = gen_input(length)\n",
        "    start = time.time()\n",
        "    twoNumberSum(values, length)\n",
        "    end = time.time()\n",
        "    times.append(end - start)\n",
        "\n",
        "plot_times(times)"
      ],
      "metadata": {
        "colab": {
          "base_uri": "https://localhost:8080/",
          "height": 281
        },
        "id": "k7xJZ8Wa7ZOp",
        "outputId": "0564d0f5-5020-4bea-928e-862890d745e3"
      },
      "execution_count": 26,
      "outputs": [
        {
          "output_type": "display_data",
          "data": {
            "text/plain": [
              "<Figure size 432x288 with 1 Axes>"
            ],
            "image/png": "[encoded data removed]"
          },
          "metadata": {
            "needs_background": "light"
          }
        }
      ]
    }
  ]
}