{
  "nbformat": 4,
  "nbformat_minor": 0,
  "metadata": {
    "colab": {
      "provenance": []
    },
    "kernelspec": {
      "name": "python3",
      "display_name": "Python 3"
    },
    "language_info": {
      "name": "python"
    }
  },
  "cells": [
    {
      "cell_type": "markdown",
      "source": [
        "# Data Pipeline"
      ],
      "metadata": {
        "id": "iXmlvjXE1Mko"
      }
    },
    {
      "cell_type": "markdown",
      "source": [
        "<p align='center'><img width=\"1000\" src=\"https://drive.google.com/uc?export=view&id=1OQeyFq3jpzrBZE4OtUcCarO0U2tUiVzR\"></p>\n"
      ],
      "metadata": {
        "id": "taP4FiO1Gcu5"
      }
    },
    {
      "cell_type": "markdown",
      "source": [
        "## Setup"
      ],
      "metadata": {
        "id": "AYluUsO51Pba"
      }
    },
    {
      "cell_type": "code",
      "execution_count": 1,
      "metadata": {
        "colab": {
          "base_uri": "https://localhost:8080/"
        },
        "id": "RWhmcBkW1Imc",
        "outputId": "d4941253-f2f4-45d5-cef7-253e04462a84"
      },
      "outputs": [
        {
          "output_type": "stream",
          "name": "stdout",
          "text": [
            "Looking in indexes: https://pypi.org/simple, https://us-python.pkg.dev/colab-wheels/public/simple/\n",
            "Collecting wikipedia\n",
            "  Downloading wikipedia-1.4.0.tar.gz (27 kB)\n",
            "Requirement already satisfied: beautifulsoup4 in /usr/local/lib/python3.8/dist-packages (from wikipedia) (4.6.3)\n",
            "Requirement already satisfied: requests<3.0.0,>=2.0.0 in /usr/local/lib/python3.8/dist-packages (from wikipedia) (2.23.0)\n",
            "Requirement already satisfied: certifi>=2017.4.17 in /usr/local/lib/python3.8/dist-packages (from requests<3.0.0,>=2.0.0->wikipedia) (2022.9.24)\n",
            "Requirement already satisfied: urllib3!=1.25.0,!=1.25.1,<1.26,>=1.21.1 in /usr/local/lib/python3.8/dist-packages (from requests<3.0.0,>=2.0.0->wikipedia) (1.24.3)\n",
            "Requirement already satisfied: idna<3,>=2.5 in /usr/local/lib/python3.8/dist-packages (from requests<3.0.0,>=2.0.0->wikipedia) (2.10)\n",
            "Requirement already satisfied: chardet<4,>=3.0.2 in /usr/local/lib/python3.8/dist-packages (from requests<3.0.0,>=2.0.0->wikipedia) (3.0.4)\n",
            "Building wheels for collected packages: wikipedia\n",
            "  Building wheel for wikipedia (setup.py) ... \u001b[?25l\u001b[?25hdone\n",
            "  Created wheel for wikipedia: filename=wikipedia-1.4.0-py3-none-any.whl size=11695 sha256=f305c861a79dcc8f2dd1f8a814b7ae4d006318eaf9c5e2db9ca18c73e9f2f248\n",
            "  Stored in directory: /root/.cache/pip/wheels/07/93/05/72c05349177dca2e0ba31a33ba4f7907606f7ddef303517c6a\n",
            "Successfully built wikipedia\n",
            "Installing collected packages: wikipedia\n",
            "Successfully installed wikipedia-1.4.0\n"
          ]
        }
      ],
      "source": [
        "!pip install wikipedia"
      ]
    },
    {
      "cell_type": "code",
      "source": [
        "# import the necessary packages\n",
        "import logging\n",
        "from operator import itemgetter\n",
        "import networkx as nx\n",
        "import wikipedia\n",
        "import matplotlib.pyplot as plt\n",
        "import numpy as np\n",
        "import seaborn as sns\n",
        "import os\n",
        "sns.set()"
      ],
      "metadata": {
        "id": "NxfBAEvQ1V5g"
      },
      "execution_count": 2,
      "outputs": []
    },
    {
      "cell_type": "code",
      "source": [
        "# configure logging\n",
        "# reference for a logging obj\n",
        "logger = logging.getLogger()\n",
        "\n",
        "# set level of logging\n",
        "logger.setLevel(logging.INFO)\n",
        "\n",
        "# create handlers\n",
        "c_handler = logging.StreamHandler()\n",
        "c_format = logging.Formatter(fmt=\"%(asctime)s %(message)s\",datefmt='%d-%m-%Y %H:%M:%S')\n",
        "c_handler.setFormatter(c_format)\n",
        "\n",
        "# add handler to the logger\n",
        "logger.handlers[0] = c_handler"
      ],
      "metadata": {
        "id": "-5clRnai_Lb7"
      },
      "execution_count": 3,
      "outputs": []
    },
    {
      "cell_type": "markdown",
      "source": [
        "## Creating the graph"
      ],
      "metadata": {
        "id": "h9YmSf1N1ev8"
      }
    },
    {
      "cell_type": "markdown",
      "source": [
        "This function gets a `SEED` and the `STOPS` to extract the pages and create a graph."
      ],
      "metadata": {
        "id": "9g8D5FQf4DRf"
      }
    },
    {
      "cell_type": "code",
      "source": [
        "def create_graph(args: dict) -> nx.DiGraph:\n",
        "  logger.info(\"[INFO] Creating graph\")\n",
        "\n",
        "  # organizating the search\n",
        "  todo_lst = [(0, args['SEED'])] # The SEED is in the layer 0\n",
        "  todo_set = set(args['SEED']) # The SEED itself\n",
        "  done_set = set() # Nothing is done yet\n",
        "\n",
        "  # creating the initial graph\n",
        "  g = nx.DiGraph()\n",
        "  layer, page = todo_lst[0]\n",
        "\n",
        "  if os.path.isfile('extract.txt'):\n",
        "    file = open('extract.txt', 'w')\n",
        "  else:\n",
        "    file = open('extract.txt', 'x')\n",
        "    \n",
        "  while layer < 2:\n",
        "    # Remove the name page of the current page from the todo_lst, \n",
        "    # and add it to the set of processed pages. \n",
        "    # If the script encounters this page again, it will skip over it.\n",
        "    del todo_lst[0]\n",
        "    done_set.add(page)\n",
        "    \n",
        "    # Show progress\n",
        "    # print(layer, page)\n",
        "    file.write(f\"{layer} {page}\\n\")\n",
        "    \n",
        "    # Attempt to download the selected page.\n",
        "    try:\n",
        "      wiki = wikipedia.page(page)\n",
        "    except:\n",
        "      # print(\"Could not load\", page)\n",
        "      file.write(\"Could not load\\n\")\n",
        "      layer, page = todo_lst[0]\n",
        "      continue\n",
        "    \n",
        "    for link in wiki.links:\n",
        "      link = link.title()\n",
        "      if link not in args['STOPS'] and not link.startswith(\"List Of\"):\n",
        "        if link not in todo_set and link not in done_set:\n",
        "          todo_lst.append((layer + 1, link))\n",
        "          todo_set.add(link)\n",
        "        g.add_edge(page, link)\n",
        "    layer, page = todo_lst[0]\n",
        "\n",
        "  # close the file\n",
        "  file.close()\n",
        "  \n",
        "  return g"
      ],
      "metadata": {
        "id": "kfbYIwio1gan"
      },
      "execution_count": 4,
      "outputs": []
    },
    {
      "cell_type": "markdown",
      "source": [
        "## Preprocessing"
      ],
      "metadata": {
        "id": "kmnhm3vR5mPc"
      }
    },
    {
      "cell_type": "markdown",
      "source": [
        "Some nodes come as duplicates but in plural or with `-` between the words. For example, `Mark Shield` and `Mark Shields` or even `High-Fructose Corn Syrup` and `High Fructose Corn Syrup`. So, this function search these nodes and contract them into only one."
      ],
      "metadata": {
        "id": "ixHd31u--A0V"
      }
    },
    {
      "cell_type": "code",
      "source": [
        "def preprocessing(g: nx.DiGraph) -> nx.DiGraph:\n",
        "  logger.info(\"[INFO] Starting preprocessing\")\n",
        "\n",
        "  g.remove_edges_from(nx.selfloop_edges(g))\n",
        "\n",
        "  # identify duplicates like that: 'network' and 'networks'\n",
        "  duplicates = [(node, node + \"s\") \n",
        "                for node in g if node + \"s\" in g\n",
        "              ]\n",
        "\n",
        "  for dup in duplicates:\n",
        "    # *dup is a technique named 'unpacking'\n",
        "    g = nx.contracted_nodes(g, *dup, self_loops=False)\n",
        "\n",
        "  if os.path.isfile('preprocessing.txt'):\n",
        "    file2 = open('preprocessing.txt', 'w')\n",
        "  else:\n",
        "    file2 = open('preprocessing.txt', 'x')\n",
        "\n",
        "  # print(duplicates) # we can remove this line in the future\n",
        "  file2.write(f\"{duplicates}\")\n",
        "\n",
        "  duplicates = [(x, y) for x, y in \n",
        "                [(node, node.replace(\"-\", \" \")) for node in g]\n",
        "                  if x != y and y in g]\n",
        "\n",
        "  # print(duplicates) # we can remove this line in the future\n",
        "  file2.write(f\"{duplicates}\")\n",
        "  file2.close()\n",
        "\n",
        "  for dup in duplicates:\n",
        "    g = nx.contracted_nodes(g, *dup, self_loops=False)\n",
        "\n",
        "  # nx.contracted creates a new node/edge attribute called contraction\n",
        "  # the value of the attribute is a dictionary, but GraphML\n",
        "  # does not support dictionary attributes\n",
        "  nx.set_node_attributes(g, 0,\"contraction\")\n",
        "  nx.set_edge_attributes(g, 0,\"contraction\")\n",
        "\n",
        "  file2.close()\n",
        "  return g"
      ],
      "metadata": {
        "id": "yBnA22kG32Ut"
      },
      "execution_count": 5,
      "outputs": []
    },
    {
      "cell_type": "markdown",
      "source": [
        "## Truncate the network"
      ],
      "metadata": {
        "id": "ZmGUBOnivA1f"
      }
    },
    {
      "cell_type": "markdown",
      "source": [
        "Most of the nodes in this network have only one connection. So, this function removes these nodes with only one incident edge to make the network more compact and less hairy without hurting the final results"
      ],
      "metadata": {
        "id": "yPVJ9qXB8n6-"
      }
    },
    {
      "cell_type": "code",
      "source": [
        "def plot_histogram(g: nx.DiGraph):\n",
        "  plt.style.use(\"default\")\n",
        "  # degree sequence\n",
        "  degree_sequence = sorted([d for n, d in g.degree()], reverse=True)  \n",
        "\n",
        "  fig, ax = plt.subplots(1,2,figsize=(8,4))\n",
        "\n",
        "  # all_data has information about degree_sequence and the width of each bin\n",
        "  ax[0].hist(degree_sequence)\n",
        "  ax[1].hist(degree_sequence,bins=[1,2,3,4,5,6,7,8,9,10])\n",
        "\n",
        "  ax[0].set_title(\"Degree Histogram\")\n",
        "  ax[0].set_ylabel(\"Count\")\n",
        "  ax[0].set_xlabel(\"Degree\")\n",
        "  ax[0].set_ylim(0,15000)\n",
        "\n",
        "  ax[1].set_title(\"Degree Histogram - Zoom\")\n",
        "  ax[1].set_ylabel(\"Count\")\n",
        "  ax[1].set_xlabel(\"Degree\")\n",
        "  ax[1].set_xlim(0,10)\n",
        "  ax[1].set_ylim(0,15000)\n",
        "\n",
        "  plt.tight_layout()\n",
        "  plt.show()"
      ],
      "metadata": {
        "id": "cKyR2Z8TwqXI"
      },
      "execution_count": 6,
      "outputs": []
    },
    {
      "cell_type": "code",
      "source": [
        "def truncate(g: nx.DiGraph) -> nx.DiGraph:\n",
        "  logger.info(\"[INFO] Starting to truncate the network\")\n",
        "\n",
        "  # checking the degree for each node\n",
        "  plot_histogram(g)\n",
        "\n",
        "  # filter nodes with degree greater than or equal to 2\n",
        "  core = [node for node, deg in dict(g.degree()).items() if deg >= 2]\n",
        "\n",
        "  # select a subgraph with 'core' nodes\n",
        "  gsub = nx.subgraph(g, core)\n",
        "\n",
        "  logger.info(\"{} nodes, {} edges\".format(len(gsub), nx.number_of_edges(gsub)))\n",
        "\n",
        "  # reporting the final graph\n",
        "  nx.write_graphml(gsub, \"cna.graphml\")\n",
        "\n",
        "  logger.info(\"Nodes removed: {:.2f}%\".format(100*(1 - len(gsub)/len(g))))\n",
        "  logger.info(\"Edges removed: {:.2f}%\".format(100*(1 - nx.number_of_edges(gsub)/nx.number_of_edges(g))))\n",
        "  logger.info(\"Edges per nodes: {:.2f}\".format(nx.number_of_edges(gsub)/len(gsub)))"
      ],
      "metadata": {
        "id": "YoVzmra6wM-Y"
      },
      "execution_count": 7,
      "outputs": []
    },
    {
      "cell_type": "markdown",
      "source": [
        "## Composing the functions"
      ],
      "metadata": {
        "id": "yKQ-5oqqwK4b"
      }
    },
    {
      "cell_type": "markdown",
      "source": [
        "We must put all pipeline steps into functions to use `compose()`. This function gets the output from first funcion and pass as argument to next. "
      ],
      "metadata": {
        "id": "sDFs696f7HyW"
      }
    },
    {
      "cell_type": "code",
      "source": [
        "def compose (*functions):\n",
        "    def inner(arg):\n",
        "        for f in functions:\n",
        "            arg = f(arg)\n",
        "        return arg\n",
        "    return inner"
      ],
      "metadata": {
        "id": "_0rLx7xt6yjn"
      },
      "execution_count": 8,
      "outputs": []
    },
    {
      "cell_type": "code",
      "source": [
        "# setup seed and stops\n",
        "SEED = \"2022 FIFA World Cup\".title()\n",
        "STOPS = (\"FIFA\",\n",
        "         \"FIFA 2022\",\n",
        "         \"FIFA World Cup\",\n",
        "         \"2022 tournament\")\n",
        "\n",
        "args = {\n",
        "    'SEED': SEED,\n",
        "    'STOPS': STOPS\n",
        "}"
      ],
      "metadata": {
        "id": "JPUrOtKp8HyU"
      },
      "execution_count": 9,
      "outputs": []
    },
    {
      "cell_type": "code",
      "source": [
        "composed = compose(create_graph, preprocessing, truncate)\n",
        "composed(args)"
      ],
      "metadata": {
        "id": "N6Tf6UYV-eSL",
        "colab": {
          "base_uri": "https://localhost:8080/",
          "height": 641
        },
        "outputId": "aacf8e62-8c3c-4f69-c0b5-029c51b73123"
      },
      "execution_count": 10,
      "outputs": [
        {
          "output_type": "stream",
          "name": "stderr",
          "text": [
            "06-12-2022 19:21:49 [INFO] Creating graph\n",
            "/usr/local/lib/python3.8/dist-packages/wikipedia/wikipedia.py:389: UserWarning: No parser was explicitly specified, so I'm using the best available HTML parser for this system (\"lxml\"). This usually isn't a problem, but if you run this code on another system, or in a different virtual environment, it may use a different parser and behave differently.\n",
            "\n",
            "The code that caused this warning is on line 389 of the file /usr/local/lib/python3.8/dist-packages/wikipedia/wikipedia.py. To get rid of this warning, pass the additional argument 'features=\"lxml\"' to the BeautifulSoup constructor.\n",
            "\n",
            "  lis = BeautifulSoup(html).find_all('li')\n",
            "06-12-2022 19:27:37 [INFO] Starting preprocessing\n",
            "06-12-2022 19:31:09 [INFO] Starting to truncate the network\n"
          ]
        },
        {
          "output_type": "display_data",
          "data": {
            "text/plain": [
              "<Figure size 800x400 with 2 Axes>"
            ],
            "image/png": "[encoded data removed]"
          },
          "metadata": {}
        },
        {
          "output_type": "stream",
          "name": "stderr",
          "text": [
            "06-12-2022 19:31:10 27563 nodes, 164356 edges\n",
            "06-12-2022 19:31:14 Nodes removed: 65.57%\n",
            "06-12-2022 19:31:15 Edges removed: 24.20%\n",
            "06-12-2022 19:31:15 Edges per nodes: 5.96\n"
          ]
        }
      ]
    }
  ]
}